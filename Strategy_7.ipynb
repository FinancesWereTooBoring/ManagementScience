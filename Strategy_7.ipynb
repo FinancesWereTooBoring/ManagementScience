{
 "cells": [
  {
   "cell_type": "code",
   "execution_count": 13,
   "metadata": {},
   "outputs": [],
   "source": [
    "from create_workers import create_workers\n",
    "import numpy as np\n",
    "import gurobipy as gb\n",
    "import seaborn as sn\n",
    "import matplotlib.pyplot as plt\n",
    "from scipy.optimize import minimize\n",
    "from multiprocessing import Pool, cpu_count, Process\n",
    "\n",
    "np.random.seed(1810)\n",
    "\n",
    "\n",
    "# Costs per worker level\n",
    "costs = {5: 16000, 4: 12000, 3: 10000, 2: 7000}\n",
    "monthly_costs = 16000 * 8 + 12000 * 12 + 10000 * 15 + 7000 * 5\n",
    "\n",
    "\n",
    "def likelihood_of_accepting(q, b):\n",
    "    \"\"\"This function firstly calculates the likelihood of project acceptance based on \n",
    "    the average quality and bid. And after that it uses np to get if the project\n",
    "    was actually accepted. \n",
    "\n",
    "    Args:\n",
    "        q (float): average quality of the team assigned to the project.\n",
    "        b (float): bid per worker\n",
    "\n",
    "    Returns:\n",
    "        binary: 0 if it was simulated that the project was accepted, and 0 otherwise.\n",
    "    \"\"\"\n",
    "    result = 1/(1 + np.exp(-6.5 - 2*q + 0.0005*b))\n",
    "    outcome = np.random.choice([0, 1], p=[1-result, result])\n",
    "    return outcome\n",
    "\n",
    "\n",
    "def max_greedy_bid(param, people_requirement, q, d):\n",
    "    \"\"\"This function provides the \"objection function\" for greedy strategy.\n",
    "    Generally speaking, this is what we are maximizing. Maybe it's possible to make it more efficient.\n",
    "\n",
    "    Args:\n",
    "        param (float): something we want to maximize.\n",
    "        pple_req (integer): amount of people needed for the project.\n",
    "        q (float): average quality of the team.\n",
    "        d (integer): length of the project.\n",
    "\n",
    "    Returns:\n",
    "        float: the maximized bid.\n",
    "    \"\"\"\n",
    "    b = param\n",
    "\n",
    "    # Here we start with minus, it's not a mistake. Thew thing is that scipy has minimization function(Check later code).\n",
    "    # So we basically minimizing negative outcome, aka maximizing positive one. I know it's weird, but that's how it works\n",
    "    # how this library works.\n",
    "    result = -b*people_requirement*d * \\\n",
    "        (1 / (1 + np.exp(-6.5 - 2 * q + 0.0005 * b)))\n",
    "    return result\n",
    "\n",
    "\n",
    "# Maybe there is a better place to put those, but idk yet.\n",
    "\n",
    "# Initial guess for the bid. necessary for scipy thing.\n",
    "initial_guess = [0]\n",
    "\n",
    "# Set bounds for optimization.\n",
    "bounds = [(-np.inf, np.inf)]\n",
    "\n",
    "\n",
    "class Simulation:\n",
    "    \"\"\"Instead of creating like shit tone of similar functions, i decided to combine the whole simulation process in one \n",
    "    class. Maybe we will need to break it for later strategies, but it worked fine for strategies 1 - 4. \n",
    "    \"\"\"\n",
    "\n",
    "    def __init__(self, initialization=10000, bid=None, n=50, fixed_probability=False, greedy=False, marketing=None):\n",
    "        \"\"\"Initiate the class.\n",
    "\n",
    "        Args:\n",
    "            bid (float, optional): If bid is fixed, than we just specify it here, or None otherwise. Defaults to None.\n",
    "            n (integer, optional): Number of weeks for simulation. Defaults to 50.\n",
    "            fixed_probability (bool, optional): Indicator, if it's a fixed probability approach. Defaults to False.\n",
    "            greedy (bool, optional): Indicator, if it's a greedy pricing. Defaults to False.\n",
    "            marketing (bool, optional) The marketing budget used. Defaults to None.\n",
    "        \"\"\"\n",
    "        self.initialization = initialization\n",
    "        self.n = n\n",
    "        self.marketing = marketing\n",
    "        if self.marketing is None:\n",
    "            self.num_of_projects_per_month = np.random.poisson(4, size=self.n)\n",
    "        elif self.marketing > 4000000:\n",
    "            self.num_of_projects_per_month = np.random.poisson(7, size=self.n)\n",
    "        elif self.marketing > 2000000:\n",
    "            self.num_of_projects_per_month = np.random.poisson(6, size=self.n)\n",
    "        else:\n",
    "            self.num_of_projects_per_month = np.random.poisson(5, size=self.n)\n",
    "        self.employees_scenario_1 = create_workers()\n",
    "        self.bid = bid\n",
    "        self.fixed_probability = fixed_probability\n",
    "        self.greedy = greedy\n",
    "        \n",
    "\n",
    "        # This one means that whenever you create Simulation object it already runs the simulation.\n",
    "        # And you directly can get all the values and plots.\n",
    "        self.total_initialization()\n",
    "\n",
    "    def monthly_behaviour(self, number_of_projects):\n",
    "        \"\"\"This is a main function. It simulates the monthly decisions - costs, revenue calculations, \n",
    "        workers allocations and others. Maybe it's smart to break it into smaller functions.  \n",
    "\n",
    "        Args:\n",
    "            num_of_proj (integer): amount of projects per month. It's the only simulation which is done on the higher level than months.\n",
    "\n",
    "        Returns:\n",
    "            tuple: revenues, costs and other proportions.\n",
    "        \"\"\"\n",
    "        # We find the sum of costs of all workers who are currently engaged in project.\n",
    "        for key in self.employees_scenario_1.keys():\n",
    "            # We are paying only to the working people, not all of them.\n",
    "            if self.employees_scenario_1[key][\"when_will_be_available\"] != 0:\n",
    "                # We reduce amount of \"busy\" periods.\n",
    "                self.employees_scenario_1[key][\"when_will_be_available\"] -= 1\n",
    "        monthly_revenue = 0\n",
    "        missed_projects = 0\n",
    "        taken_projects = 0\n",
    "        # Sorry for not doing man/woman_months, hahha. This variable will be used in utilization calculations.\n",
    "        man_months = 0\n",
    "\n",
    "        for project in range(number_of_projects):\n",
    "\n",
    "            # Basically, we simulate for each project the people and time requirements.\n",
    "            scope_of_project = np.random.choice([3, 6], p=[0.5, 0.5])\n",
    "            workers_requirement = np.random.choice(\n",
    "                [3, 4, 5, 6], p=[0.2, 0.3, 0.3, 0.2])\n",
    "            potential_team = []\n",
    "\n",
    "            for worker, values in self.employees_scenario_1.items():\n",
    "                # We checked for each worker their availability.\n",
    "                # I just assume for now that better workers are checked first\n",
    "                if len(potential_team) < workers_requirement:\n",
    "                    if values[\"when_will_be_available\"] == 0:\n",
    "                        potential_team.append(worker)\n",
    "            # Check if we managed to form a team\n",
    "            if len(potential_team) == workers_requirement:\n",
    "\n",
    "                # Find the average quality of the team. Works surprisingly fast.\n",
    "                potential_quality = np.mean(\n",
    "                    [self.employees_scenario_1[worker][\"level\"] for worker in potential_team])\n",
    "\n",
    "                # It allows to hold situations, when the bid needs to be optimized.\n",
    "                if not self.bid:\n",
    "                    if not self.greedy:\n",
    "                        # Strategy 3\n",
    "                        self.bid = 2000 * (2 * potential_quality + 6.5)\n",
    "                    else:\n",
    "                        # It's optimization for Strategy 4\n",
    "                        max_bid = minimize(max_greedy_bid, initial_guess, bounds=bounds, args=(\n",
    "                            workers_requirement, potential_quality, scope_of_project,), method='L-BFGS-B')\n",
    "                        self.bid = max_bid.x[0]\n",
    "\n",
    "                # After we got to know the bid, we find out the likelihood of acceptance and if it was actually accepted.\n",
    "                is_accepted = likelihood_of_accepting(\n",
    "                    q=potential_quality, b=self.bid)\n",
    "                if is_accepted:\n",
    "                    # If our project is actually accepted\n",
    "                    # I also assume that they start working on project from the next month.\n",
    "                    # That's why the calc of costs is done on the beginning of the each month.\n",
    "                    for person in potential_team:\n",
    "                        # Add their working months.\n",
    "                        self.employees_scenario_1[person][\"when_will_be_available\"] = scope_of_project\n",
    "                        man_months += scope_of_project\n",
    "                    # Yeah, this one is another assumption I make, which can be changed in the future, So right now\n",
    "                    # it is assumed that in month 0 we get assigned to the project and get the whole revenue for it,\n",
    "                    # while starting to paying to our workers monthly from month 1 until the end.\n",
    "                    monthly_revenue += self.bid * workers_requirement * scope_of_project\n",
    "                    taken_projects += 1\n",
    "                else:\n",
    "                    # We formed the team, but project wasn't accepted.\n",
    "                    potential_team = []\n",
    "\n",
    "            elif len(potential_team) < workers_requirement:\n",
    "                # If we didn't manage to form a team.\n",
    "                potential_team = []\n",
    "                # I add missed projects only in this case, because in the assignment he says - \"he proportion of unaddressed\n",
    "                # projects due to resource limitations.\" So we basically find, how many projects we lost only because we don't have enough people.\n",
    "                missed_projects += 1\n",
    "            else:\n",
    "                # If we formed a team with more people in a team than needed - error.\n",
    "                print(\"More people in a team than needed\")\n",
    "                break\n",
    "\n",
    "            # If the bid is not fixed, we need to renew it for every project.\n",
    "            if self.fixed_probability or self.greedy:\n",
    "                self.bid = None\n",
    "\n",
    "        return monthly_revenue, missed_projects, taken_projects, man_months\n",
    "\n",
    "    def _one_go_intitalisation(self):\n",
    "        \"\"\"This is orchestration function. It runs the for loop with monthly simulations and creates all the \n",
    "        necessary metrics and values for the post simulation analysis.\n",
    "        \"\"\"\n",
    "        # Costs and revenue are saved in lists, and not as an integer, because we will need them further for plots.\n",
    "        one_go_total_revenue, one_go_total_missed_projects, one_go_total_taken_projects, one_go_total_man_months = 0, 0, 0, 0\n",
    "\n",
    "        # This is monthly simulation creation.\n",
    "        for monthly_proj in self.num_of_projects_per_month:\n",
    "            monthly_revenue, missed_projects, taken_projects, man_months = self.monthly_behaviour(\n",
    "                monthly_proj)\n",
    "            one_go_total_revenue += monthly_revenue\n",
    "            one_go_total_missed_projects += missed_projects\n",
    "            one_go_total_taken_projects += taken_projects\n",
    "            one_go_total_man_months += man_months\n",
    "\n",
    "        one_go_total_costs = monthly_costs * self.n\n",
    "\n",
    "        # Create the total profit list.\n",
    "        if self.marketing is not None:\n",
    "            one_go_total_profit = one_go_total_revenue - one_go_total_costs - self.marketing\n",
    "        else:\n",
    "            one_go_total_profit = one_go_total_revenue - one_go_total_costs\n",
    "        # Missed proj/all the projects. I calulate the total like this,\n",
    "        # because the proportion missed_proj/taken_proj is more than 1.\n",
    "        one_go_proportion_of_missed_proj = one_go_total_missed_projects / \\\n",
    "            (self.num_of_projects_per_month.sum())\n",
    "\n",
    "        # Utilization of man-months out of available 40 people * 50 months.\n",
    "        one_go_utilization_man_months = one_go_total_man_months/(40 * 50)\n",
    "\n",
    "        return one_go_total_revenue, one_go_total_profit, one_go_proportion_of_missed_proj, one_go_utilization_man_months, one_go_total_taken_projects \n",
    "\n",
    "    def total_initialization(self):\n",
    "\n",
    "        self.total_revenue, self.total_profit, self.proportion_of_missed_proj, self.total_utilization, self.total_projects = [], [], [], [], []\n",
    "\n",
    "        for initialization in range(self.initialization + 1):\n",
    "            # print(initialization)\n",
    "            one_go_total_revenue, one_go_total_profit, one_go_proportion_of_missed_proj, one_go_utilization_man_months, one_go_total_taken_projects  = self._one_go_intitalisation()\n",
    "            self.total_revenue.append(one_go_total_revenue)\n",
    "            self.total_profit.append(one_go_total_profit)\n",
    "            self.proportion_of_missed_proj.append(\n",
    "                one_go_proportion_of_missed_proj)\n",
    "            self.total_utilization.append(one_go_utilization_man_months)\n",
    "            self.total_projects.append(one_go_total_taken_projects)\n",
    "\n",
    "    def revenue_plot(self):\n",
    "        \"\"\"Creates revenue histogram.\n",
    "        \"\"\"\n",
    "        ax = sn.histplot(self.total_revenue, kde=True, bins=50)\n",
    "        ax.set(xlabel=\"Revenue\", ylabel=\"Probability\")\n",
    "        plt.show()\n",
    "        # Never forget to close the plot.\n",
    "        # Otherwise each plt.show() will produce the same plot.\n",
    "        plt.close()\n",
    "\n",
    "    def profit_plot(self):\n",
    "        \"\"\"Creates profit histogram.\n",
    "        \"\"\"\n",
    "        a2 = sn.histplot(self.total_profit, kde=True, bins=50)\n",
    "        a2.set(xlabel=\"Profit\", ylabel=\"Probability\")\n",
    "        plt.show()\n",
    "        plt.close()\n",
    "\n",
    "    def missed_project_proportion_plot(self):\n",
    "        \"\"\"Creates profit histogram.\n",
    "        \"\"\"\n",
    "        a2 = sn.histplot(self.proportion_of_missed_proj, kde=True, bins=50)\n",
    "        a2.set(xlabel=\"Proportion of missed project\", ylabel=\"Probability\")\n",
    "        plt.show()\n",
    "        plt.close()\n",
    "\n",
    "    def man_month_utilization_plot(self):\n",
    "        \"\"\"Creates profit histogram.\n",
    "        \"\"\"\n",
    "        a2 = sn.histplot(self.total_utilization, kde=True, bins=50)\n",
    "        a2.set(xlabel=\"Man month utilization\", ylabel=\"Probability\")\n",
    "        plt.show()\n",
    "        plt.close()\n"
   ]
  },
  {
   "cell_type": "code",
   "execution_count": 6,
   "metadata": {},
   "outputs": [],
   "source": [
    "import os "
   ]
  },
  {
   "cell_type": "code",
   "execution_count": 14,
   "metadata": {},
   "outputs": [
    {
     "data": {
      "text/plain": [
       "0"
      ]
     },
     "execution_count": 14,
     "metadata": {},
     "output_type": "execute_result"
    }
   ],
   "source": [
    "#strategy 7, same as strategy 1, just different number of average projects drawn from the poisson distribution\n",
    "#and subtracting the additional cost from the profit gained.\n",
    "\n",
    "#no marketing, benchmark\n",
    "\n",
    "strategy_7_1 = Simulation(bid=20000)\n",
    "strategy_7_1.total_initialization()\n",
    "\n",
    "total_revenue_strategy_7_1 = np.mean(strategy_7_1.total_revenue)\n",
    "total_profit_strategy_7_1 = np.mean(strategy_7_1.total_profit)\n",
    "proportion_of_missed_proj_strategy_7_1 = np.mean(strategy_7_1.proportion_of_missed_proj)\n",
    "total_utilization_strategy_7_1 = np.mean(strategy_7_1.total_utilization)\n",
    "total_projects_7_1 = np.sum(strategy_7_1.total_projects)\n",
    "\n",
    "os.system('say \"done\"')"
   ]
  },
  {
   "cell_type": "code",
   "execution_count": 15,
   "metadata": {},
   "outputs": [
    {
     "name": "stdout",
     "output_type": "stream",
     "text": [
      "Strategy 7_1\n",
      "Total revenue: 37390060.99390061\n",
      "Total profit: 14540060.99390061\n",
      "Proportion of missed projects: 0.4733485414345164\n",
      "Total utilization: 0.9347515248475153\n",
      "Total projects: 953622\n"
     ]
    }
   ],
   "source": [
    "print(\"Strategy 7_1\")\n",
    "print(\"Total revenue:\", total_revenue_strategy_7_1)\n",
    "print(\"Total profit:\", total_profit_strategy_7_1)\n",
    "print(\"Proportion of missed projects:\", proportion_of_missed_proj_strategy_7_1)\n",
    "print(\"Total utilization:\", total_utilization_strategy_7_1)\n",
    "print(\"Total projects:\", total_projects_7_1)\n"
   ]
  },
  {
   "cell_type": "code",
   "execution_count": 16,
   "metadata": {},
   "outputs": [
    {
     "data": {
      "text/plain": [
       "0"
      ]
     },
     "execution_count": 16,
     "metadata": {},
     "output_type": "execute_result"
    }
   ],
   "source": [
    "#marketing equal to 2.000.000\n",
    "\n",
    "strategy_7_2 = Simulation(bid=20000, marketing = 2000000)\n",
    "strategy_7_2.total_initialization()\n",
    "\n",
    "total_revenue_strategy_7_2 = np.mean(strategy_7_2.total_revenue)\n",
    "total_profit_strategy_7_2 = np.mean(strategy_7_2.total_profit)\n",
    "proportion_of_missed_proj_strategy_7_2 = np.mean(strategy_7_2.proportion_of_missed_proj)\n",
    "total_utilization_strategy_7_2 = np.mean(strategy_7_2.total_utilization)\n",
    "total_projects_7_2 = np.sum(strategy_7_2.total_projects)\n",
    "\n",
    "os.system('say \"done\"')"
   ]
  },
  {
   "cell_type": "code",
   "execution_count": 17,
   "metadata": {},
   "outputs": [
    {
     "name": "stdout",
     "output_type": "stream",
     "text": [
      "Strategy 7_2\n",
      "Total revenue: 37483471.65283471\n",
      "Total profit: 12633471.652834717\n",
      "Proportion of missed projects: 0.5437894263670978\n",
      "Total utilization: 0.9370867913208679\n",
      "Total projects: 959539\n"
     ]
    }
   ],
   "source": [
    "print(\"Strategy 7_2\")\n",
    "print(\"Total revenue:\", total_revenue_strategy_7_2)\n",
    "print(\"Total profit:\", total_profit_strategy_7_2)\n",
    "print(\"Proportion of missed projects:\", proportion_of_missed_proj_strategy_7_2)\n",
    "print(\"Total utilization:\", total_utilization_strategy_7_2)\n",
    "print(\"Total projects:\", total_projects_7_2)\n"
   ]
  },
  {
   "cell_type": "code",
   "execution_count": 18,
   "metadata": {},
   "outputs": [
    {
     "data": {
      "text/plain": [
       "0"
      ]
     },
     "execution_count": 18,
     "metadata": {},
     "output_type": "execute_result"
    }
   ],
   "source": [
    "#marketing equal to 4.000.000\n",
    "\n",
    "strategy_7_3 = Simulation(bid=20000, marketing = 4000000)\n",
    "strategy_7_3.total_initialization()\n",
    "\n",
    "total_revenue_strategy_7_3 = np.mean(strategy_7_3.total_revenue)\n",
    "total_profit_strategy_7_3 = np.mean(strategy_7_3.total_profit)\n",
    "proportion_of_missed_proj_strategy_7_3 = np.mean(strategy_7_3.proportion_of_missed_proj)\n",
    "total_utilization_strategy_7_3 = np.mean(strategy_7_3.total_utilization)\n",
    "total_projects_7_3 = np.sum(strategy_7_3.total_projects)\n",
    "\n",
    "os.system('say \"done\"')"
   ]
  },
  {
   "cell_type": "code",
   "execution_count": 19,
   "metadata": {},
   "outputs": [
    {
     "name": "stdout",
     "output_type": "stream",
     "text": [
      "Strategy 7_3\n",
      "Total revenue: 38725569.4430557\n",
      "Total profit: 11875569.443055695\n",
      "Proportion of missed projects: 0.6735553030799639\n",
      "Total utilization: 0.9681392360763923\n",
      "Total projects: 1002502\n"
     ]
    }
   ],
   "source": [
    "print(\"Strategy 7_3\")\n",
    "print(\"Total revenue:\", total_revenue_strategy_7_3)\n",
    "print(\"Total profit:\", total_profit_strategy_7_3)\n",
    "print(\"Proportion of missed projects:\", proportion_of_missed_proj_strategy_7_3)\n",
    "print(\"Total utilization:\", total_utilization_strategy_7_3)\n",
    "print(\"Total projects:\", total_projects_7_3)"
   ]
  },
  {
   "cell_type": "code",
   "execution_count": 20,
   "metadata": {},
   "outputs": [
    {
     "data": {
      "text/plain": [
       "0"
      ]
     },
     "execution_count": 20,
     "metadata": {},
     "output_type": "execute_result"
    }
   ],
   "source": [
    "#marketing equal to 6.000.000\n",
    "\n",
    "strategy_7_4 = Simulation(bid=20000, marketing = 6000000)\n",
    "strategy_7_4.total_initialization()\n",
    "\n",
    "total_revenue_strategy_7_4 = np.mean(strategy_7_4.total_revenue)\n",
    "total_profit_strategy_7_4 = np.mean(strategy_7_4.total_profit)\n",
    "proportion_of_missed_proj_strategy_7_4 = np.mean(strategy_7_4.proportion_of_missed_proj)\n",
    "total_utilization_strategy_7_4 = np.mean(strategy_7_4.total_utilization)\n",
    "total_projects_7_4 = np.sum(strategy_7_4.total_projects)\n",
    "\n",
    "os.system('say \"done\"')"
   ]
  },
  {
   "cell_type": "code",
   "execution_count": 21,
   "metadata": {},
   "outputs": [
    {
     "name": "stdout",
     "output_type": "stream",
     "text": [
      "Strategy 7_4\n",
      "Total revenue: 38722215.778422154\n",
      "Total profit: 9872215.778422158\n",
      "Proportion of missed projects: 0.6594350028719527\n",
      "Total utilization: 0.9680553944605539\n",
      "Total projects: 1002570\n"
     ]
    }
   ],
   "source": [
    "print(\"Strategy 7_4\")\n",
    "print(\"Total revenue:\", total_revenue_strategy_7_4)\n",
    "print(\"Total profit:\", total_profit_strategy_7_4)\n",
    "print(\"Proportion of missed projects:\", proportion_of_missed_proj_strategy_7_4)\n",
    "print(\"Total utilization:\", total_utilization_strategy_7_4)\n",
    "print(\"Total projects:\", total_projects_7_4)"
   ]
  },
  {
   "cell_type": "markdown",
   "metadata": {},
   "source": []
  }
 ],
 "metadata": {
  "kernelspec": {
   "display_name": "base",
   "language": "python",
   "name": "python3"
  },
  "language_info": {
   "codemirror_mode": {
    "name": "ipython",
    "version": 3
   },
   "file_extension": ".py",
   "mimetype": "text/x-python",
   "name": "python",
   "nbconvert_exporter": "python",
   "pygments_lexer": "ipython3",
   "version": "3.11.6"
  }
 },
 "nbformat": 4,
 "nbformat_minor": 2
}
